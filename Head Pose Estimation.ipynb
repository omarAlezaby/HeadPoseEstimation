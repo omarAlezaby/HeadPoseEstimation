{
 "cells": [
  {
   "cell_type": "code",
   "execution_count": 1,
   "metadata": {},
   "outputs": [],
   "source": [
    "import os\n",
    "import numpy as np\n",
    "import cv2\n",
    "import pandas as pd\n",
    "\n",
    "# utils imports\n",
    "import scipy.io as sio\n",
    "import math\n",
    "from math import cos, sin\n",
    "\n",
    "import torch\n",
    "import torch.nn as nn\n",
    "from torch.autograd import Variable\n",
    "\n",
    "import torch.nn.functional as F\n",
    "from torch.utils.data import Dataset, DataLoader \n",
    "from torchvision import transforms\n",
    "import torchvision\n",
    "import torch.utils.model_zoo as model_zoo\n",
    "\n",
    "import matplotlib.pyplot as plt\n",
    "\n",
    "from PIL import Image, ImageFilter"
   ]
  },
  {
   "cell_type": "markdown",
   "metadata": {},
   "source": [
    "# Utils"
   ]
  },
  {
   "cell_type": "code",
   "execution_count": 2,
   "metadata": {},
   "outputs": [],
   "source": [
    "def get_list_from_filenames(file_path):\n",
    "    # input:    relative path to .txt file with file names\n",
    "    # output:   list of relative path names\n",
    "    with open(file_path) as f:\n",
    "        lines = f.read().splitlines()\n",
    "    return lines"
   ]
  },
  {
   "cell_type": "code",
   "execution_count": 3,
   "metadata": {},
   "outputs": [],
   "source": [
    "def get_pt2d_from_mat(mat_path):\n",
    "    # Get 2D landmarks\n",
    "    mat = sio.loadmat(mat_path)\n",
    "    #print(f'this is the mat file fot sample {mat_path} : {mat}')\n",
    "    pt2d = mat['pt2d']\n",
    "    return pt2d"
   ]
  },
  {
   "cell_type": "code",
   "execution_count": 4,
   "metadata": {},
   "outputs": [],
   "source": [
    "def get_ypr_from_mat(mat_path):\n",
    "    # Get yaw, pitch, roll from .mat annotation.\n",
    "    # They are in radians\n",
    "    mat = sio.loadmat(mat_path)\n",
    "    # [pitch yaw roll tdx tdy tdz scale_factor]\n",
    "    pre_pose_params = mat['Pose_Para'][0]\n",
    "    # Get [pitch, yaw, roll]\n",
    "    pose_params = pre_pose_params[:3]\n",
    "    return pose_params"
   ]
  },
  {
   "cell_type": "code",
   "execution_count": 5,
   "metadata": {},
   "outputs": [],
   "source": [
    "def draw_axis(img, yaw, pitch, roll, tdx=None, tdy=None, size = 100):\n",
    "\n",
    "    pitch = pitch * np.pi / 180\n",
    "    yaw = -(yaw * np.pi / 180)\n",
    "    roll = roll * np.pi / 180\n",
    "\n",
    "    if tdx != None and tdy != None:\n",
    "        tdx = tdx\n",
    "        tdy = tdy\n",
    "    else:\n",
    "        height, width = img.shape[:2]\n",
    "        tdx = width / 2\n",
    "        tdy = height / 2\n",
    "\n",
    "    # X-Axis pointing to right. drawn in red\n",
    "    x1 = size * (cos(yaw) * cos(roll)) + tdx\n",
    "    y1 = size * (cos(pitch) * sin(roll) + cos(roll) * sin(pitch) * sin(yaw)) + tdy\n",
    "\n",
    "    # Y-Axis | drawn in green\n",
    "    #        v\n",
    "    x2 = size * (-cos(yaw) * sin(roll)) + tdx\n",
    "    y2 = size * (cos(pitch) * cos(roll) - sin(pitch) * sin(yaw) * sin(roll)) + tdy\n",
    "\n",
    "    # Z-Axis (out of the screen) drawn in blue\n",
    "    x3 = size * (sin(yaw)) + tdx\n",
    "    y3 = size * (-cos(yaw) * sin(pitch)) + tdy\n",
    "\n",
    "    cv2.line(img, (int(tdx), int(tdy)), (int(x1),int(y1)),(0,0,255),3)\n",
    "    cv2.line(img, (int(tdx), int(tdy)), (int(x2),int(y2)),(0,255,0),3)\n",
    "    cv2.line(img, (int(tdx), int(tdy)), (int(x3),int(y3)),(255,0,0),2)\n",
    "\n",
    "    return img"
   ]
  },
  {
   "cell_type": "code",
   "execution_count": 6,
   "metadata": {},
   "outputs": [],
   "source": [
    "def plot_pose_cube(img, yaw, pitch, roll, tdx=None, tdy=None, size=150.):\n",
    "    # Input is a cv2 image\n",
    "    # pose_params: (pitch, yaw, roll, tdx, tdy)\n",
    "    # Where (tdx, tdy) is the translation of the face.\n",
    "    # For pose we have [pitch yaw roll tdx tdy tdz scale_factor]\n",
    "\n",
    "    p = pitch * np.pi / 180\n",
    "    y = -(yaw * np.pi / 180)\n",
    "    r = roll * np.pi / 180\n",
    "    if tdx != None and tdy != None:\n",
    "        face_x = tdx - 0.50 * size\n",
    "        face_y = tdy - 0.50 * size\n",
    "    else:\n",
    "        height, width = img.shape[:2]\n",
    "        face_x = width / 2 - 0.5 * size\n",
    "        face_y = height / 2 - 0.5 * size\n",
    "\n",
    "    x1 = size * (cos(y) * cos(r)) + face_x\n",
    "    y1 = size * (cos(p) * sin(r) + cos(r) * sin(p) * sin(y)) + face_y\n",
    "    x2 = size * (-cos(y) * sin(r)) + face_x\n",
    "    y2 = size * (cos(p) * cos(r) - sin(p) * sin(y) * sin(r)) + face_y\n",
    "    x3 = size * (sin(y)) + face_x\n",
    "    y3 = size * (-cos(y) * sin(p)) + face_y\n",
    "\n",
    "    # Draw base in red\n",
    "    cv2.line(img, (int(face_x), int(face_y)), (int(x1),int(y1)),(0,0,255),3)\n",
    "    cv2.line(img, (int(face_x), int(face_y)), (int(x2),int(y2)),(0,0,255),3)\n",
    "    cv2.line(img, (int(x2), int(y2)), (int(x2+x1-face_x),int(y2+y1-face_y)),(0,0,255),3)\n",
    "    cv2.line(img, (int(x1), int(y1)), (int(x1+x2-face_x),int(y1+y2-face_y)),(0,0,255),3)\n",
    "    # Draw pillars in blue\n",
    "    cv2.line(img, (int(face_x), int(face_y)), (int(x3),int(y3)),(255,0,0),2)\n",
    "    cv2.line(img, (int(x1), int(y1)), (int(x1+x3-face_x),int(y1+y3-face_y)),(255,0,0),2)\n",
    "    cv2.line(img, (int(x2), int(y2)), (int(x2+x3-face_x),int(y2+y3-face_y)),(255,0,0),2)\n",
    "    cv2.line(img, (int(x2+x1-face_x),int(y2+y1-face_y)), (int(x3+x1+x2-2*face_x),int(y3+y2+y1-2*face_y)),(255,0,0),2)\n",
    "    # Draw top in green\n",
    "    cv2.line(img, (int(x3+x1-face_x),int(y3+y1-face_y)), (int(x3+x1+x2-2*face_x),int(y3+y2+y1-2*face_y)),(0,255,0),2)\n",
    "    cv2.line(img, (int(x2+x3-face_x),int(y2+y3-face_y)), (int(x3+x1+x2-2*face_x),int(y3+y2+y1-2*face_y)),(0,255,0),2)\n",
    "    cv2.line(img, (int(x3), int(y3)), (int(x3+x1-face_x),int(y3+y1-face_y)),(0,255,0),2)\n",
    "    cv2.line(img, (int(x3), int(y3)), (int(x3+x2-face_x),int(y3+y2-face_y)),(0,255,0),2)\n",
    "\n",
    "    return img"
   ]
  },
  {
   "cell_type": "code",
   "execution_count": 7,
   "metadata": {},
   "outputs": [],
   "source": [
    "# ceate filesname file for dataset calss\n",
    "def filter_samples(mat_path):\n",
    "    '''\n",
    "    neglect the samples with angel outside the angles range [-99, 99]\n",
    "    paramters\n",
    "    ---------\n",
    "    mat_path : str, path for sample mat file that contains angel informations\n",
    "    '''\n",
    "    pose = get_ypr_from_mat(mat_path)\n",
    "    pitch = pose[0] * 180 / np.pi\n",
    "    yaw = pose[1] * 180 / np.pi\n",
    "    roll = pose[2] * 180 / np.pi\n",
    "\n",
    "    valid = (np.abs(pitch) > 99 or\n",
    "           np.abs(yaw) > 99 or\n",
    "           np.abs(roll) > 99)\n",
    "\n",
    "    return valid\n",
    "\n",
    "def find_filenams(imgs_folders, imgs_subfolders, filename_path):\n",
    "    '''\n",
    "    create file with the names of the training samples for 300W_LP dataset\n",
    "    '''\n",
    "    with open(f'{filename_path}/filename_list.txt', 'w') as names_file:\n",
    "        valid_samples = 0\n",
    "        for folder in imgs_subfolders:\n",
    "            print(f'processing folder {folder}')\n",
    "            for img_name in os.listdir(f'{imgs_folders}/{folder}') :\n",
    "                # not image\n",
    "                if not img_name.endswith('.jpg'): continue \n",
    "                file_name = f'{imgs_folders}/{folder}/{img_name.replace(\".jpg\",\"\")}'\n",
    "                # check tha angle range \n",
    "                if filter_samples(f'{file_name}.mat'): continue\n",
    "                # save the sample\n",
    "                names_file.write(f'{folder}/{img_name.replace(\".jpg\",\"\")}\\n')\n",
    "                valid_samples += 1\n",
    "                \n",
    "        print(f'number of valid samples is {valid_samples}')"
   ]
  },
  {
   "cell_type": "code",
   "execution_count": 16,
   "metadata": {},
   "outputs": [
    {
     "name": "stdout",
     "output_type": "stream",
     "text": [
      "processing folder AFW\n",
      "processing folder HELEN\n",
      "processing folder LFPW\n",
      "processing folder IBUG\n",
      "number of valid samples is 61225\n"
     ]
    }
   ],
   "source": [
    "# creat the filenmae for 300W_LP Dataset without flipping dataset\n",
    "SUBFOLDERS = ['AFW', 'HELEN', 'LFPW', 'IBUG']\n",
    "imgs_folders = 'dataset/300W_LP'\n",
    "filename_path = imgs_folders\n",
    "find_filenams(imgs_folders, SUBFOLDERS, filename_path)"
   ]
  },
  {
   "cell_type": "code",
   "execution_count": 8,
   "metadata": {},
   "outputs": [],
   "source": [
    "def write_to_file(file_path, data_list):\n",
    "    with open(file_path,'w') as file:\n",
    "        for item in data_list:\n",
    "            file.write(item + '\\n')\n",
    "\n",
    "# split dataset\n",
    "def split_dataset(filenames_list_path, training_pres = .9):\n",
    "    # get file names\n",
    "    filenames = get_list_from_filenames(filenames_list_path + '/filename_list.txt')\n",
    "    # ranbomly shuffel dataset\n",
    "    np.random.shuffle(filenames)\n",
    "    num_training = int(len(filenames) * training_pres)\n",
    "    print(f'number of training samples is {num_training}')\n",
    "    train_dataset = filenames[:num_training]\n",
    "    val_dataset = filenames[:num_training]\n",
    "    # save splits\n",
    "    write_to_file(filenames_list_path + '/filename_list_train.txt', train_dataset)\n",
    "    write_to_file(filenames_list_path + '/filename_list_val.txt', val_dataset)    "
   ]
  },
  {
   "cell_type": "code",
   "execution_count": 14,
   "metadata": {},
   "outputs": [
    {
     "name": "stdout",
     "output_type": "stream",
     "text": [
      "number of training samples is 55102\n"
     ]
    }
   ],
   "source": [
    "split_dataset('dataset/300W_LP', training_pres = .9)"
   ]
  },
  {
   "cell_type": "markdown",
   "metadata": {},
   "source": [
    "# DataSet"
   ]
  },
  {
   "cell_type": "code",
   "execution_count": 9,
   "metadata": {},
   "outputs": [],
   "source": [
    "class Pose_300W_LP(Dataset):\n",
    "    # Head pose from 300W-LP dataset\n",
    "    def __init__(self, data_dir, filename_path, transform, augment=True, img_ext='.jpg', annot_ext='.mat', image_mode='RGB'):\n",
    "        self.data_dir = data_dir\n",
    "        self.transform = transform\n",
    "        self.augment = augment\n",
    "        self.img_ext = img_ext\n",
    "        self.annot_ext = annot_ext\n",
    "        # get the images subfolder/name\n",
    "        filename_list = get_list_from_filenames(filename_path)\n",
    "\n",
    "        self.X_train = filename_list\n",
    "        self.y_train = filename_list\n",
    "        self.image_mode = image_mode\n",
    "        self.length = len(filename_list)\n",
    "\n",
    "    def __getitem__(self, index):\n",
    "        # load image\n",
    "        img = Image.open(f'{self.data_dir}/{self.X_train[index]}{self.img_ext}')\n",
    "        img = img.convert(self.image_mode)\n",
    "        # load lables\n",
    "        mat_path = f'{self.data_dir}/{self.y_train[index]}{self.annot_ext}'\n",
    "\n",
    "        # Crop the face loosely\n",
    "        # get the image 2D facila points\n",
    "        pt2d = get_pt2d_from_mat(mat_path)\n",
    "        # find the face BBOX form facila points\n",
    "        x_min = min(pt2d[0,:])\n",
    "        y_min = min(pt2d[1,:])\n",
    "        x_max = max(pt2d[0,:])\n",
    "        y_max = max(pt2d[1,:])\n",
    "        \n",
    "        # adjust the face BBOX to more sutable size\n",
    "        \n",
    "        # k = 0.2 to 0.40 I the BBOX scaling factor\n",
    "        # increase the size of the BBOX for, .12 * 2, .24 * 2\n",
    "        # but the size for y_min is scaled more as the min point in 2D is eyes\n",
    "        # fix k size during evaluation\n",
    "        if self.augment: k = np.random.random_sample() * 0.2 + 0.2\n",
    "        else : k = .3\n",
    "        x_min -= 0.6 * k * abs(x_max - x_min)\n",
    "        y_min -= 2 * k * abs(y_max - y_min) \n",
    "        x_max += 0.6 * k * abs(x_max - x_min)\n",
    "        y_max += 0.6 * k * abs(y_max - y_min)\n",
    "        img = img.crop((int(x_min), int(y_min), int(x_max), int(y_max)))\n",
    "\n",
    "        # We get the pose in radians\n",
    "        pose = get_ypr_from_mat(mat_path)\n",
    "        # And convert to degrees.\n",
    "        pitch = pose[0] * 180 / np.pi\n",
    "        yaw = pose[1] * 180 / np.pi\n",
    "        roll = pose[2] * 180 / np.pi\n",
    "\n",
    "        # Flip Augmentaion\n",
    "        rnd = np.random.random_sample()\n",
    "        if rnd < 0.5 and self.augment:\n",
    "            yaw = -yaw\n",
    "            roll = -roll\n",
    "            img = img.transpose(Image.FLIP_LEFT_RIGHT)\n",
    "\n",
    "        # Blur Augmentaion\n",
    "        rnd = np.random.random_sample()\n",
    "        if rnd < 0.05 and self.augment:\n",
    "            img = img.filter(ImageFilter.BLUR)\n",
    "\n",
    "        # Bin values\n",
    "        bins = np.array(range(-99, 102, 3)) # [-99, 99]\n",
    "        # output: array(1*3) value[0, 66[, the number of the region each angle in\n",
    "        binned_pose = np.digitize([yaw, pitch, roll], bins) - 1\n",
    "\n",
    "        # Get target tensors\n",
    "        labels = binned_pose\n",
    "        angles = torch.FloatTensor([yaw, pitch, roll])\n",
    "\n",
    "        if self.transform is not None:\n",
    "            img = self.transform(img)\n",
    "        else :\n",
    "            img = transforms.ToTensor()(img)\n",
    "\n",
    "        return img, labels, angles, self.X_train[index]\n",
    "\n",
    "    def __len__(self):\n",
    "        # 61,225 without flipping data\n",
    "        return self.length"
   ]
  },
  {
   "cell_type": "code",
   "execution_count": 10,
   "metadata": {},
   "outputs": [
    {
     "name": "stdout",
     "output_type": "stream",
     "text": [
      "(240, 240, 3) <class 'numpy.ndarray'>\n"
     ]
    },
    {
     "name": "stderr",
     "output_type": "stream",
     "text": [
      "Clipping input data to the valid range for imshow with RGB data ([0..1] for floats or [0..255] for integers).\n"
     ]
    },
    {
     "data": {
      "image/png": "[encoded data removed]",
      "text/plain": [
       "<Figure size 432x288 with 1 Axes>"
      ]
     },
     "metadata": {
      "needs_background": "light"
     },
     "output_type": "display_data"
    }
   ],
   "source": [
    "# test dataset\n",
    "dataset = Pose_300W_LP(data_dir = 'dataset/300W_LP', filename_path = 'dataset/300W_LP/filename_list.txt', transform = None)\n",
    "dl = DataLoader(dataset, batch_size=1, shuffle=True)\n",
    "\n",
    "for img, dig_labels, exact_labels, img_path in dl:\n",
    "    img, dig_labels, exact_labels, img_path = img[0], dig_labels[0], exact_labels[0], img_path[0]\n",
    "    # draw the head pose estimation axes\n",
    "    image = img.permute((1,2,0)).numpy()\n",
    "    image = cv2.resize(image, dsize=(240, 240), interpolation=cv2.INTER_CUBIC)\n",
    "    #image = cv2.imread(os.path.join('dataset/300W_LP', img_path + '.jpg'))\n",
    "    print(image.shape, type(image))\n",
    "    draw_axis(image, exact_labels[0], exact_labels[1], exact_labels[2], \n",
    "              tdx = image.shape[1] / 2, tdy= (image.shape[0]) / 2, size = image.shape[0]/2)\n",
    "    plt.imshow(image)\n",
    "    break"
   ]
  },
  {
   "cell_type": "markdown",
   "metadata": {},
   "source": [
    "# Arch"
   ]
  },
  {
   "cell_type": "code",
   "execution_count": 11,
   "metadata": {},
   "outputs": [],
   "source": [
    "class Hopenet(nn.Module):\n",
    "    # Hopenet with 3 output layers for yaw, pitch and roll\n",
    "    # Predicts Euler angles by binning and regression with the expected value\n",
    "    def __init__(self, block, layers, num_bins):\n",
    "        self.inplanes = 64\n",
    "        super(Hopenet, self).__init__()\n",
    "        self.conv1 = nn.Conv2d(3, 64, kernel_size=7, stride=2, padding=3,\n",
    "                               bias=False)\n",
    "        self.bn1 = nn.BatchNorm2d(64)\n",
    "        self.relu = nn.ReLU(inplace=True)\n",
    "        self.maxpool = nn.MaxPool2d(kernel_size=3, stride=2, padding=1)\n",
    "        self.layer1 = self._make_layer(block, 64, layers[0])\n",
    "        self.layer2 = self._make_layer(block, 128, layers[1], stride=2)\n",
    "        self.layer3 = self._make_layer(block, 256, layers[2], stride=2)\n",
    "        self.layer4 = self._make_layer(block, 512, layers[3], stride=2)\n",
    "        self.avgpool = nn.AvgPool2d(7)\n",
    "        self.fc_yaw = nn.Linear(512 * block.expansion, num_bins)\n",
    "        self.fc_pitch = nn.Linear(512 * block.expansion, num_bins)\n",
    "        self.fc_roll = nn.Linear(512 * block.expansion, num_bins)\n",
    "\n",
    "        # Vestigial layer from previous experiments\n",
    "        self.fc_finetune = nn.Linear(512 * block.expansion + 3, 3)\n",
    "\n",
    "        for m in self.modules():\n",
    "            if isinstance(m, nn.Conv2d):\n",
    "                n = m.kernel_size[0] * m.kernel_size[1] * m.out_channels\n",
    "                m.weight.data.normal_(0, math.sqrt(2. / n))\n",
    "            elif isinstance(m, nn.BatchNorm2d):\n",
    "                m.weight.data.fill_(1)\n",
    "                m.bias.data.zero_()\n",
    "\n",
    "    def _make_layer(self, block, planes, blocks, stride=1):\n",
    "        downsample = None\n",
    "        if stride != 1 or self.inplanes != planes * block.expansion:\n",
    "            downsample = nn.Sequential(\n",
    "                nn.Conv2d(self.inplanes, planes * block.expansion,\n",
    "                          kernel_size=1, stride=stride, bias=False),\n",
    "                nn.BatchNorm2d(planes * block.expansion),\n",
    "            )\n",
    "\n",
    "        layers = []\n",
    "        layers.append(block(self.inplanes, planes, stride, downsample))\n",
    "        self.inplanes = planes * block.expansion\n",
    "        for i in range(1, blocks):\n",
    "            layers.append(block(self.inplanes, planes))\n",
    "\n",
    "        return nn.Sequential(*layers)\n",
    "\n",
    "    def forward(self, x):\n",
    "        x = self.conv1(x)\n",
    "        x = self.bn1(x)\n",
    "        x = self.relu(x)\n",
    "        x = self.maxpool(x)\n",
    "\n",
    "        x = self.layer1(x)\n",
    "        x = self.layer2(x)\n",
    "        x = self.layer3(x)\n",
    "        x = self.layer4(x)\n",
    "\n",
    "        x = self.avgpool(x)\n",
    "        x = x.view(x.size(0), -1)\n",
    "        pre_yaw = self.fc_yaw(x)\n",
    "        pre_pitch = self.fc_pitch(x)\n",
    "        pre_roll = self.fc_roll(x)\n",
    "\n",
    "        return pre_yaw, pre_pitch, pre_roll"
   ]
  },
  {
   "cell_type": "markdown",
   "metadata": {},
   "source": [
    "# Train"
   ]
  },
  {
   "cell_type": "markdown",
   "metadata": {},
   "source": [
    "## variables "
   ]
  },
  {
   "cell_type": "code",
   "execution_count": 20,
   "metadata": {},
   "outputs": [],
   "source": [
    "num_epochs = 25\n",
    "batch_size = 32\n",
    "device = 'cuda' if torch.cuda.is_available() else 'cpu'\n",
    "checkpoints = 'checkpoints'\n",
    "last_checkpoint = f'{checkpoints}/headpose_last.pth'\n",
    "best_checkpoint = f'{checkpoints}/headpose_best.pth'\n",
    "# create checkpoints file\n",
    "os.makedirs(checkpoints, exist_ok=True)\n",
    "# dataset variables\n",
    "data_dir = 'dataset/300W_LP'\n",
    "filename_list_train = f'{data_dir}/filename_list_train.txt'\n",
    "filename_list_val = f'{data_dir}/filename_list_val.txt'\n",
    "\n",
    "lr = 0.001"
   ]
  },
  {
   "cell_type": "markdown",
   "metadata": {},
   "source": [
    "## Helper Functions"
   ]
  },
  {
   "cell_type": "code",
   "execution_count": 13,
   "metadata": {},
   "outputs": [],
   "source": [
    "def get_ignored_params(model):\n",
    "    # Generator function that yields ignored params.\n",
    "    b = [model.conv1, model.bn1, model.fc_finetune]\n",
    "    for i in range(len(b)):\n",
    "        for module_name, module in b[i].named_modules():\n",
    "            if 'bn' in module_name:\n",
    "                module.eval()\n",
    "            for name, param in module.named_parameters():\n",
    "                yield param\n",
    "\n",
    "def get_non_ignored_params(model):\n",
    "    # Generator function that yields params that will be optimized.\n",
    "    b = [model.layer1, model.layer2, model.layer3, model.layer4]\n",
    "    for i in range(len(b)):\n",
    "        for module_name, module in b[i].named_modules():\n",
    "            if 'bn' in module_name:\n",
    "                module.eval()\n",
    "            for name, param in module.named_parameters():\n",
    "                yield param\n",
    "\n",
    "def get_fc_params(model):\n",
    "    # Generator function that yields fc layer params.\n",
    "    b = [model.fc_yaw, model.fc_pitch, model.fc_roll]\n",
    "    for i in range(len(b)):\n",
    "        for module_name, module in b[i].named_modules():\n",
    "            for name, param in module.named_parameters():\n",
    "                yield param\n",
    "\n",
    "def load_filtered_state_dict(model, snapshot):\n",
    "    # By user apaszke from discuss.pytorch.org\n",
    "    model_dict = model.state_dict()\n",
    "    snapshot = {k: v for k, v in snapshot.items() if k in model_dict}\n",
    "    model_dict.update(snapshot)\n",
    "    model.load_state_dict(model_dict)"
   ]
  },
  {
   "cell_type": "code",
   "execution_count": 14,
   "metadata": {},
   "outputs": [],
   "source": [
    "# intialize model\n",
    "# ResNet50 structure\n",
    "model = Hopenet(torchvision.models.resnet.Bottleneck, [3, 4, 6, 3], 66)\n",
    "model.to(device)"
   ]
  },
  {
   "cell_type": "code",
   "execution_count": 15,
   "metadata": {},
   "outputs": [],
   "source": [
    "# load checkpoint\n",
    "if os.path.exists(last_checkpoint):\n",
    "    saved_state_dict = torch.load(args.snapshot)\n",
    "    model.load_state_dict(saved_state_dict)\n",
    "else:\n",
    "    # load ImageNet weights\n",
    "    load_filtered_state_dict(model, model_zoo.load_url(torchvision.models.resnet.model_urls['resnet50']))"
   ]
  },
  {
   "cell_type": "code",
   "execution_count": 17,
   "metadata": {},
   "outputs": [
    {
     "name": "stderr",
     "output_type": "stream",
     "text": [
      "C:\\Users\\eleza\\Anaconda3\\lib\\site-packages\\torchvision\\transforms\\transforms.py:208: UserWarning: The use of the transforms.Scale transform is deprecated, please use transforms.Resize instead.\n",
      "  warnings.warn(\"The use of the transforms.Scale transform is deprecated, \" +\n"
     ]
    }
   ],
   "source": [
    "# dataset transformer\n",
    "transformations = transforms.Compose([transforms.Scale(240),\n",
    "                                      transforms.RandomCrop(224), \n",
    "                                      transforms.ToTensor(),\n",
    "                                      transforms.Normalize(mean=[0.485, 0.456, 0.406], std=[0.229, 0.224, 0.225])])\n",
    "# create training dataloader\n",
    "pose_train = Pose_300W_LP(data_dir, filename_list_train, transform=transformations, augment=True)\n",
    "train_loader = DataLoader(pose_train, batch_size=batch_size, shuffle=True, num_workers=4)\n",
    "\n",
    "# create val dataloader\n",
    "pose_val = Pose_300W_LP(data_dir, filename_list_val, transform=None, augment=False)\n",
    "train_loader = DataLoader(pose_val, batch_size=batch_size, shuffle=False, num_workers=4)"
   ]
  },
  {
   "cell_type": "code",
   "execution_count": 21,
   "metadata": {},
   "outputs": [],
   "source": [
    "# loss for softmax prediction\n",
    "cls_criterion = nn.CrossEntropyLoss().to(device)\n",
    "#loss of Regression fine tuning\n",
    "reg_criterion = nn.MSELoss().to(device)\n",
    "\n",
    "# optimizer, set three diffrent lr through the network\n",
    "optimizer = torch.optim.Adam([{'params': get_ignored_params(model), 'lr': 0},\n",
    "                              {'params': get_non_ignored_params(model), 'lr': lr},\n",
    "                              {'params': get_fc_params(model), 'lr': lr * 5}],\n",
    "                               lr = lr)"
   ]
  },
  {
   "cell_type": "markdown",
   "metadata": {},
   "source": [
    "## training"
   ]
  },
  {
   "cell_type": "code",
   "execution_count": 22,
   "metadata": {},
   "outputs": [],
   "source": [
    "def compute_cls_loss(criterion, pred, target, device):\n",
    "    # move to device\n",
    "    target = target.to(device)\n",
    "    # compute loss\n",
    "    cls_loss = criterion(pred, target)\n",
    "    return loss"
   ]
  },
  {
   "cell_type": "code",
   "execution_count": 23,
   "metadata": {},
   "outputs": [],
   "source": [
    "def compute_reg_loss(criterion, pred, target, device):\n",
    "    # move to device\n",
    "    target = target.to(device)\n",
    "    # compute predected prop\n",
    "    softmax = nn.Softmax().to(device)\n",
    "    pred_prop = softmax(pred)\n",
    "    # get regression value for proplities\n",
    "    idx_tensor = torch.FloatTensor([idx for idx in range(66)]).to(device)\n",
    "    reg_pred = torch.sum(pred_prop * idx_tensor) * 3 - 99 # [-99, 99]\n",
    "    # compute reg loss\n",
    "    reg_loss = criterion(reg_pred, target)\n",
    "    return loss"
   ]
  },
  {
   "cell_type": "code",
   "execution_count": null,
   "metadata": {},
   "outputs": [],
   "source": [
    "def train_epoch(model, train_loader, epoch_num, cls_criterion, reg_criterion, disp_every, device):\n",
    "    # values to compute\n",
    "    total_loss = 0\n",
    "    total_acc_perAng = [0, 0, 0] # yaw, pitch, roll\n",
    "    \n",
    "    for i, (img, angles, bins_angles, img_name) in enumerate(train_loader):\n",
    "        \n",
    "        # pass image to the model\n",
    "        pred_yaw, pred_pitch, pred_roll = model(img.to(device))\n",
    "        \n",
    "        # compute classification losses\n",
    "        loss_cls_yaw = compute_cls_loss(cls_criterion, pred_yaw, bins_angles[:, 0], device)\n",
    "        loss_cls_pitch = compute_cls_loss(cls_criterion, pred_pitch, bins_angles[:, 1], device)        \n",
    "        loss_cls_roll = compute_cls_loss(cls_criterion, pred_roll, bins_angles[:, 2], device)\n",
    "        \n",
    "        # computer regression losses \n",
    "        loss_reg_yaw = compute_reg_loss(reg_criterion, pred_yaw, angles[0], device)\n",
    "        loss_reg_pitch = compute_reg_loss(reg_criterion, pred_pitch, angles[1], device)        \n",
    "        loss_reg_roll = compute_reg_loss(reg_criterion, pred_roll, angles[2], device)\n",
    "        \n",
    "        # total losses \n",
    "        loss_yaw = loss_cls_yaw + alpha * loss_reg_yaw\n",
    "        loss_pitch = loss_cls_pitch + alpha * loss_reg_pitch        \n",
    "        loss_roll = loss_cls_roll + alpha * loss_reg_roll\n",
    "        \n",
    "        # backprop and optimize \n",
    "        "
   ]
  }
 ],
 "metadata": {
  "kernelspec": {
   "display_name": "Python 3",
   "language": "python",
   "name": "python3"
  },
  "language_info": {
   "codemirror_mode": {
    "name": "ipython",
    "version": 3
   },
   "file_extension": ".py",
   "mimetype": "text/x-python",
   "name": "python",
   "nbconvert_exporter": "python",
   "pygments_lexer": "ipython3",
   "version": "3.7.3"
  }
 },
 "nbformat": 4,
 "nbformat_minor": 2
}

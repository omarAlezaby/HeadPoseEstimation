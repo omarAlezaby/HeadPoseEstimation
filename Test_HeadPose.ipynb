{
 "cells": [
  {
   "cell_type": "code",
   "execution_count": 1,
   "metadata": {},
   "outputs": [],
   "source": [
    "import os\n",
    "import numpy as np\n",
    "import cv2\n",
    "import pandas as pd\n",
    "\n",
    "# utils imports\n",
    "import scipy.io as sio\n",
    "import math\n",
    "from math import cos, sin\n",
    "\n",
    "import torch\n",
    "import torch.nn as nn\n",
    "from torch.autograd import Variable\n",
    "\n",
    "import torch.nn.functional as F\n",
    "from torch.utils.data import Dataset, DataLoader \n",
    "from torchvision import transforms\n",
    "import torchvision\n",
    "import torch.utils.model_zoo as model_zoo\n",
    "\n",
    "import matplotlib.pyplot as plt\n",
    "\n",
    "from PIL import Image, ImageFilter"
   ]
  },
  {
   "cell_type": "code",
   "execution_count": 18,
   "metadata": {},
   "outputs": [
    {
     "data": {
      "text/plain": [
       "True"
      ]
     },
     "execution_count": 18,
     "metadata": {},
     "output_type": "execute_result"
    }
   ],
   "source": [
    "torch.cuda.is_available()"
   ]
  },
  {
   "cell_type": "markdown",
   "metadata": {},
   "source": [
    "# Utils"
   ]
  },
  {
   "cell_type": "code",
   "execution_count": 2,
   "metadata": {},
   "outputs": [],
   "source": [
    "def get_list_from_filenames(file_path):\n",
    "    # input:    relative path to .txt file with file names\n",
    "    # output:   list of relative path names\n",
    "    with open(file_path) as f:\n",
    "        lines = f.read().splitlines()\n",
    "    return lines"
   ]
  },
  {
   "cell_type": "code",
   "execution_count": 3,
   "metadata": {},
   "outputs": [],
   "source": [
    "def get_pt2d_from_mat(mat_path):\n",
    "    # Get 2D landmarks\n",
    "    mat = sio.loadmat(mat_path)\n",
    "    #print(f'this is the mat file fot sample {mat_path} : {mat}')\n",
    "    pt2d = mat['pt2d']\n",
    "    return pt2d"
   ]
  },
  {
   "cell_type": "code",
   "execution_count": 4,
   "metadata": {},
   "outputs": [],
   "source": [
    "def get_ypr_from_mat(mat_path):\n",
    "    # Get yaw, pitch, roll from .mat annotation.\n",
    "    # They are in radians\n",
    "    mat = sio.loadmat(mat_path)\n",
    "    # [pitch yaw roll tdx tdy tdz scale_factor]\n",
    "    pre_pose_params = mat['Pose_Para'][0]\n",
    "    # Get [pitch, yaw, roll]\n",
    "    pose_params = pre_pose_params[:3]\n",
    "    return pose_params"
   ]
  },
  {
   "cell_type": "code",
   "execution_count": 5,
   "metadata": {},
   "outputs": [],
   "source": [
    "def draw_axis(img, yaw, pitch, roll, tdx=None, tdy=None, size = 100):\n",
    "\n",
    "    pitch = pitch * np.pi / 180\n",
    "    yaw = -(yaw * np.pi / 180)\n",
    "    roll = roll * np.pi / 180\n",
    "\n",
    "    if tdx != None and tdy != None:\n",
    "        tdx = tdx\n",
    "        tdy = tdy\n",
    "    else:\n",
    "        height, width = img.shape[:2]\n",
    "        tdx = width / 2\n",
    "        tdy = height / 2\n",
    "\n",
    "    # X-Axis pointing to right. drawn in red\n",
    "    x1 = size * (cos(yaw) * cos(roll)) + tdx\n",
    "    y1 = size * (cos(pitch) * sin(roll) + cos(roll) * sin(pitch) * sin(yaw)) + tdy\n",
    "\n",
    "    # Y-Axis | drawn in green\n",
    "    #        v\n",
    "    x2 = size * (-cos(yaw) * sin(roll)) + tdx\n",
    "    y2 = size * (cos(pitch) * cos(roll) - sin(pitch) * sin(yaw) * sin(roll)) + tdy\n",
    "\n",
    "    # Z-Axis (out of the screen) drawn in blue\n",
    "    x3 = size * (sin(yaw)) + tdx\n",
    "    y3 = size * (-cos(yaw) * sin(pitch)) + tdy\n",
    "\n",
    "    cv2.line(img, (int(tdx), int(tdy)), (int(x1),int(y1)),(0,0,255),3)\n",
    "    cv2.line(img, (int(tdx), int(tdy)), (int(x2),int(y2)),(0,255,0),3)\n",
    "    cv2.line(img, (int(tdx), int(tdy)), (int(x3),int(y3)),(255,0,0),2)\n",
    "\n",
    "    return img"
   ]
  },
  {
   "cell_type": "code",
   "execution_count": 6,
   "metadata": {},
   "outputs": [],
   "source": [
    "def plot_pose_cube(img, yaw, pitch, roll, tdx=None, tdy=None, size=150.):\n",
    "    # Input is a cv2 image\n",
    "    # pose_params: (pitch, yaw, roll, tdx, tdy)\n",
    "    # Where (tdx, tdy) is the translation of the face.\n",
    "    # For pose we have [pitch yaw roll tdx tdy tdz scale_factor]\n",
    "\n",
    "    p = pitch * np.pi / 180\n",
    "    y = -(yaw * np.pi / 180)\n",
    "    r = roll * np.pi / 180\n",
    "    if tdx != None and tdy != None:\n",
    "        face_x = tdx - 0.50 * size\n",
    "        face_y = tdy - 0.50 * size\n",
    "    else:\n",
    "        height, width = img.shape[:2]\n",
    "        face_x = width / 2 - 0.5 * size\n",
    "        face_y = height / 2 - 0.5 * size\n",
    "\n",
    "    x1 = size * (cos(y) * cos(r)) + face_x\n",
    "    y1 = size * (cos(p) * sin(r) + cos(r) * sin(p) * sin(y)) + face_y\n",
    "    x2 = size * (-cos(y) * sin(r)) + face_x\n",
    "    y2 = size * (cos(p) * cos(r) - sin(p) * sin(y) * sin(r)) + face_y\n",
    "    x3 = size * (sin(y)) + face_x\n",
    "    y3 = size * (-cos(y) * sin(p)) + face_y\n",
    "\n",
    "    # Draw base in red\n",
    "    cv2.line(img, (int(face_x), int(face_y)), (int(x1),int(y1)),(0,0,255),3)\n",
    "    cv2.line(img, (int(face_x), int(face_y)), (int(x2),int(y2)),(0,0,255),3)\n",
    "    cv2.line(img, (int(x2), int(y2)), (int(x2+x1-face_x),int(y2+y1-face_y)),(0,0,255),3)\n",
    "    cv2.line(img, (int(x1), int(y1)), (int(x1+x2-face_x),int(y1+y2-face_y)),(0,0,255),3)\n",
    "    # Draw pillars in blue\n",
    "    cv2.line(img, (int(face_x), int(face_y)), (int(x3),int(y3)),(255,0,0),2)\n",
    "    cv2.line(img, (int(x1), int(y1)), (int(x1+x3-face_x),int(y1+y3-face_y)),(255,0,0),2)\n",
    "    cv2.line(img, (int(x2), int(y2)), (int(x2+x3-face_x),int(y2+y3-face_y)),(255,0,0),2)\n",
    "    cv2.line(img, (int(x2+x1-face_x),int(y2+y1-face_y)), (int(x3+x1+x2-2*face_x),int(y3+y2+y1-2*face_y)),(255,0,0),2)\n",
    "    # Draw top in green\n",
    "    cv2.line(img, (int(x3+x1-face_x),int(y3+y1-face_y)), (int(x3+x1+x2-2*face_x),int(y3+y2+y1-2*face_y)),(0,255,0),2)\n",
    "    cv2.line(img, (int(x2+x3-face_x),int(y2+y3-face_y)), (int(x3+x1+x2-2*face_x),int(y3+y2+y1-2*face_y)),(0,255,0),2)\n",
    "    cv2.line(img, (int(x3), int(y3)), (int(x3+x1-face_x),int(y3+y1-face_y)),(0,255,0),2)\n",
    "    cv2.line(img, (int(x3), int(y3)), (int(x3+x2-face_x),int(y3+y2-face_y)),(0,255,0),2)\n",
    "\n",
    "    return img"
   ]
  },
  {
   "cell_type": "code",
   "execution_count": 7,
   "metadata": {},
   "outputs": [],
   "source": [
    "# ceate filesname file for dataset calss\n",
    "def filter_samples(mat_path):\n",
    "    '''\n",
    "    neglect the samples with angel outside the angles range [-99, 99]\n",
    "    paramters\n",
    "    ---------\n",
    "    mat_path : str, path for sample mat file that contains angel informations\n",
    "    '''\n",
    "    pose = get_ypr_from_mat(mat_path)\n",
    "    pitch = pose[0] * 180 / np.pi\n",
    "    yaw = pose[1] * 180 / np.pi\n",
    "    roll = pose[2] * 180 / np.pi\n",
    "\n",
    "    valid = (np.abs(pitch) > 99 or\n",
    "           np.abs(yaw) > 99 or\n",
    "           np.abs(roll) > 99)\n",
    "\n",
    "    return valid\n",
    "\n",
    "def find_filenams(imgs_folder, filename_path, img_ext = '.jpg'):\n",
    "    '''\n",
    "    create file with the names of the training samples for 300W_LP dataset\n",
    "    '''\n",
    "    with open(f'{filename_path}/filename_list.txt', 'w') as names_file:\n",
    "        valid_samples = 0\n",
    "        for img_name in os.listdir(imgs_folder) :\n",
    "            # not image\n",
    "            if not img_name.endswith(img_ext): continue \n",
    "            annot_path = f'{imgs_folders}/{img_name.replace(\".jpg\",\".mat\")}'\n",
    "            # check tha angle range \n",
    "            if filter_samples(annot_path): continue\n",
    "            # save the sample\n",
    "            names_file.write(f'{img_name.replace(\".jpg\",\"\")}\\n')\n",
    "            valid_samples += 1\n",
    "                \n",
    "        print(f'number of valid samples is {valid_samples}')"
   ]
  },
  {
   "cell_type": "code",
   "execution_count": 11,
   "metadata": {},
   "outputs": [
    {
     "name": "stdout",
     "output_type": "stream",
     "text": [
      "number of valid samples is 1969\n"
     ]
    }
   ],
   "source": [
    "'''# creat the filenmae for 300W_LP Dataset without flipping dataset\n",
    "imgs_folders = '../dataset/AFLW2000'\n",
    "filename_path = imgs_folders\n",
    "find_filenams(imgs_folders, filename_path)'''"
   ]
  },
  {
   "cell_type": "markdown",
   "metadata": {},
   "source": [
    "# DataSet"
   ]
  },
  {
   "cell_type": "code",
   "execution_count": 8,
   "metadata": {},
   "outputs": [],
   "source": [
    "\n",
    "class AFLW2000(Dataset):\n",
    "    def __init__(self, data_dir, filename_path, transform, img_ext='.jpg', annot_ext='.mat', image_mode='RGB'):\n",
    "        self.data_dir = data_dir\n",
    "        self.transform = transform\n",
    "        self.img_ext = img_ext\n",
    "        self.annot_ext = annot_ext\n",
    "\n",
    "        filename_list = get_list_from_filenames(filename_path)\n",
    "\n",
    "        self.X_train = filename_list\n",
    "        self.y_train = filename_list\n",
    "        self.image_mode = image_mode\n",
    "        self.length = len(filename_list)\n",
    "\n",
    "    def __getitem__(self, index):\n",
    "        img = Image.open(os.path.join(self.data_dir, self.X_train[index] + self.img_ext))\n",
    "        img = img.convert(self.image_mode)\n",
    "        mat_path = os.path.join(self.data_dir, self.y_train[index] + self.annot_ext)\n",
    "\n",
    "        # Crop the face loosely\n",
    "        pt2d = get_pt2d_from_mat(mat_path)\n",
    "\n",
    "        x_min = min(pt2d[0,:])\n",
    "        y_min = min(pt2d[1,:])\n",
    "        x_max = max(pt2d[0,:])\n",
    "        y_max = max(pt2d[1,:])\n",
    "\n",
    "        k = 0.20\n",
    "        x_min -= 2 * k * abs(x_max - x_min)\n",
    "        y_min -= 2 * k * abs(y_max - y_min)\n",
    "        x_max += 2 * k * abs(x_max - x_min)\n",
    "        y_max += 0.6 * k * abs(y_max - y_min)\n",
    "        img = img.crop((int(x_min), int(y_min), int(x_max), int(y_max)))\n",
    "\n",
    "        # We get the pose in radians\n",
    "        pose = get_ypr_from_mat(mat_path)\n",
    "        # And convert to degrees.\n",
    "        pitch = pose[0] * 180 / np.pi\n",
    "        yaw = pose[1] * 180 / np.pi\n",
    "        roll = pose[2] * 180 / np.pi\n",
    "        # Bin values\n",
    "        bins = np.array(range(-99, 102, 3))\n",
    "        labels = torch.LongTensor(np.digitize([yaw, pitch, roll], bins) - 1)\n",
    "        cont_labels = torch.FloatTensor([yaw, pitch, roll])\n",
    "\n",
    "        if self.transform is not None:\n",
    "            img = self.transform(img)\n",
    "\n",
    "        return img, labels, cont_labels, self.X_train[index]\n",
    "\n",
    "    def __len__(self):\n",
    "        # 2,000\n",
    "        return self.length"
   ]
  },
  {
   "cell_type": "code",
   "execution_count": 12,
   "metadata": {},
   "outputs": [
    {
     "name": "stderr",
     "output_type": "stream",
     "text": [
      "Clipping input data to the valid range for imshow with RGB data ([0..1] for floats or [0..255] for integers).\n"
     ]
    },
    {
     "name": "stdout",
     "output_type": "stream",
     "text": [
      "(240, 240, 3) <class 'numpy.ndarray'>\n"
     ]
    },
    {
     "data": {
      "image/png": "[encoded data removed]",
      "text/plain": [
       "<Figure size 432x288 with 1 Axes>"
      ]
     },
     "metadata": {
      "needs_background": "light"
     },
     "output_type": "display_data"
    }
   ],
   "source": [
    "# test AFLW2000 Dataset Class\n",
    "transformations = transforms.Compose([transforms.Scale(224),\n",
    "                                      transforms.CenterCrop(224), transforms.ToTensor(),\n",
    "                                      transforms.Normalize(mean=[0.485, 0.456, 0.406], std=[0.229, 0.224, 0.225])])\n",
    "\n",
    "dataset = AFLW2000(data_dir = '../dataset/AFLW2000', filename_path = '../dataset/AFLW2000/filename_list.txt', transform = transformations)\n",
    "dl = DataLoader(dataset, batch_size=1, shuffle=True)\n",
    "\n",
    "for img, dig_labels, exact_labels, img_path in dl:\n",
    "    img, dig_labels, exact_labels, img_path = img[0], dig_labels[0], exact_labels[0], img_path[0]\n",
    "    # draw the head pose estimation axes\n",
    "    image = img.permute((1,2,0)).numpy()\n",
    "    image = cv2.resize(image, dsize=(240, 240), interpolation=cv2.INTER_CUBIC)\n",
    "    #image = cv2.imread(os.path.join('dataset/300W_LP', img_path + '.jpg'))\n",
    "    print(image.shape, type(image))\n",
    "    draw_axis(image, exact_labels[0], exact_labels[1], exact_labels[2], \n",
    "              tdx = image.shape[1] / 2, tdy= (image.shape[0]) / 2, size = image.shape[0]/2)\n",
    "    plt.imshow(image)\n",
    "    break"
   ]
  },
  {
   "cell_type": "markdown",
   "metadata": {},
   "source": [
    "# Arch"
   ]
  },
  {
   "cell_type": "code",
   "execution_count": 13,
   "metadata": {},
   "outputs": [],
   "source": [
    "class Hopenet(nn.Module):\n",
    "    # Hopenet with 3 output layers for yaw, pitch and roll\n",
    "    # Predicts Euler angles by binning and regression with the expected value\n",
    "    def __init__(self, block, layers, num_bins):\n",
    "        self.inplanes = 64\n",
    "        super(Hopenet, self).__init__()\n",
    "        self.conv1 = nn.Conv2d(3, 64, kernel_size=7, stride=2, padding=3,\n",
    "                               bias=False)\n",
    "        self.bn1 = nn.BatchNorm2d(64)\n",
    "        self.relu = nn.ReLU(inplace=True)\n",
    "        self.maxpool = nn.MaxPool2d(kernel_size=3, stride=2, padding=1)\n",
    "        self.layer1 = self._make_layer(block, 64, layers[0])\n",
    "        self.layer2 = self._make_layer(block, 128, layers[1], stride=2)\n",
    "        self.layer3 = self._make_layer(block, 256, layers[2], stride=2)\n",
    "        self.layer4 = self._make_layer(block, 512, layers[3], stride=2)\n",
    "        self.avgpool = nn.AvgPool2d(7)\n",
    "        self.fc_yaw = nn.Linear(512 * block.expansion, num_bins)\n",
    "        self.fc_pitch = nn.Linear(512 * block.expansion, num_bins)\n",
    "        self.fc_roll = nn.Linear(512 * block.expansion, num_bins)\n",
    "\n",
    "        # Vestigial layer from previous experiments\n",
    "        self.fc_finetune = nn.Linear(512 * block.expansion + 3, 3)\n",
    "\n",
    "        for m in self.modules():\n",
    "            if isinstance(m, nn.Conv2d):\n",
    "                n = m.kernel_size[0] * m.kernel_size[1] * m.out_channels\n",
    "                m.weight.data.normal_(0, math.sqrt(2. / n))\n",
    "            elif isinstance(m, nn.BatchNorm2d):\n",
    "                m.weight.data.fill_(1)\n",
    "                m.bias.data.zero_()\n",
    "\n",
    "    def _make_layer(self, block, planes, blocks, stride=1):\n",
    "        downsample = None\n",
    "        if stride != 1 or self.inplanes != planes * block.expansion:\n",
    "            downsample = nn.Sequential(\n",
    "                nn.Conv2d(self.inplanes, planes * block.expansion,\n",
    "                          kernel_size=1, stride=stride, bias=False),\n",
    "                nn.BatchNorm2d(planes * block.expansion),\n",
    "            )\n",
    "\n",
    "        layers = []\n",
    "        layers.append(block(self.inplanes, planes, stride, downsample))\n",
    "        self.inplanes = planes * block.expansion\n",
    "        for i in range(1, blocks):\n",
    "            layers.append(block(self.inplanes, planes))\n",
    "\n",
    "        return nn.Sequential(*layers)\n",
    "\n",
    "    def forward(self, x):\n",
    "        x = self.conv1(x)\n",
    "        x = self.bn1(x)\n",
    "        x = self.relu(x)\n",
    "        x = self.maxpool(x)\n",
    "\n",
    "        x = self.layer1(x)\n",
    "        x = self.layer2(x)\n",
    "        x = self.layer3(x)\n",
    "        x = self.layer4(x)\n",
    "\n",
    "        x = self.avgpool(x)\n",
    "        x = x.view(x.size(0), -1)\n",
    "        pre_yaw = self.fc_yaw(x)\n",
    "        pre_pitch = self.fc_pitch(x)\n",
    "        pre_roll = self.fc_roll(x)\n",
    "\n",
    "        return pre_yaw, pre_pitch, pre_roll"
   ]
  },
  {
   "cell_type": "markdown",
   "metadata": {},
   "source": [
    "# Test"
   ]
  },
  {
   "cell_type": "code",
   "execution_count": 25,
   "metadata": {},
   "outputs": [],
   "source": [
    "batch_size = 1\n",
    "device = 'cuda' if torch.cuda.is_available() else 'cpu'\n",
    "\n",
    "checkpoints_file = 'checkpoints'\n",
    "last_checkpoint = f'{checkpoints_file}/headpose_last.pth'\n",
    "best_checkpoint = f'{checkpoints_file}/headpose_best.pth'\n",
    "best_checkpoint_acc = f'{checkpoints_file}/headpose_best_acc.pth'\n",
    "# dataset variables\n",
    "data_dir = '../dataset/AFLW2000'\n",
    "filename_list = f'{data_dir}/filename_list.txt'\n",
    "\n",
    "# checkpoint to test\n",
    "test_checkpoint = last_checkpoint\n",
    "\n",
    "output = f'output'\n",
    "# create checkpoints file\n",
    "os.makedirs(output, exist_ok=True)\n",
    "\n",
    "save_out = True\n",
    "disp_every = 100"
   ]
  },
  {
   "cell_type": "code",
   "execution_count": 15,
   "metadata": {},
   "outputs": [],
   "source": [
    "# Intialize dataset calss\n",
    "transformations = transforms.Compose([transforms.Resize(224),\n",
    "                                      transforms.CenterCrop(224), transforms.ToTensor(),\n",
    "                                      transforms.Normalize(mean=[0.485, 0.456, 0.406], std=[0.229, 0.224, 0.225])])\n",
    "\n",
    "test_dataset = AFLW2000(data_dir , filename_list, transform = transformations)\n",
    "test_loader = DataLoader(test_dataset, batch_size=batch_size, shuffle=True)"
   ]
  },
  {
   "cell_type": "code",
   "execution_count": 16,
   "metadata": {},
   "outputs": [],
   "source": [
    "# intialize model\n",
    "# ResNet50 structure\n",
    "model = Hopenet(torchvision.models.resnet.Bottleneck, [3, 4, 6, 3], 66)\n",
    "model.to(device)\n",
    "softmax = nn.Softmax(dim=1).to(device)"
   ]
  },
  {
   "cell_type": "code",
   "execution_count": 17,
   "metadata": {},
   "outputs": [
    {
     "data": {
      "text/plain": [
       "<All keys matched successfully>"
      ]
     },
     "execution_count": 17,
     "metadata": {},
     "output_type": "execute_result"
    }
   ],
   "source": [
    "# load checkpoint\n",
    "check = torch.load(test_checkpoint)\n",
    "model.load_state_dict(check['state_dic'])"
   ]
  },
  {
   "cell_type": "code",
   "execution_count": 19,
   "metadata": {},
   "outputs": [],
   "source": [
    "def get_reg_form_cls(pred, prop_func, device):\n",
    "    # compute predected prop\n",
    "    pred_prop = softmax(pred)\n",
    "    # get regression value for proplities\n",
    "    idx_tensor = torch.FloatTensor([idx for idx in range(66)]).to(device)\n",
    "    reg_pred = torch.sum(pred_prop * idx_tensor, dim=1) * 3 - 99 # [-99, 99]\n",
    "    return reg_pred"
   ]
  },
  {
   "cell_type": "code",
   "execution_count": 30,
   "metadata": {},
   "outputs": [],
   "source": [
    "def Test_HeadPose(model, prop_func, test_loader, disp_every, save_out, device):\n",
    "    \n",
    "    model.eval()\n",
    "    \n",
    "    # values to compute\n",
    "    yaw_error = .0\n",
    "    pitch_error = .0\n",
    "    roll_error = .0\n",
    "    test_size = len(test_loader.dataset)\n",
    "    \n",
    "    for i, (img, bins_angles, angles, img_name) in enumerate(test_loader):\n",
    "        \n",
    "        # load to device \n",
    "        img = img.to(device)\n",
    "        angles = angles.to(device)\n",
    "        bins_angles = bins_angles.to(device)\n",
    "        \n",
    "        with torch.no_grad():\n",
    "            # pass image to the model\n",
    "            pred_yaw, pred_pitch, pred_roll = model(img)\n",
    "        \n",
    "        # get the regression values for the output of the model\n",
    "        reg_yaw = get_reg_form_cls(pred_yaw, prop_func, device)\n",
    "        reg_pitch = get_reg_form_cls(pred_pitch, prop_func, device)\n",
    "        reg_roll = get_reg_form_cls(pred_roll, prop_func, device)\n",
    "        \n",
    "        # compute Accuracy\n",
    "        yaw_error += torch.sum(torch.abs(reg_yaw - angles[:, 0])).cpu().detach().numpy()\n",
    "        pitch_error += torch.sum(torch.abs(reg_pitch - angles[:, 1])).cpu().detach().numpy()\n",
    "        roll_error += torch.sum(torch.abs(reg_roll - angles[:, 2])).cpu().detach().numpy()\n",
    "        \n",
    "        # print results and save to logger\n",
    "        if i % disp_every == 0:\n",
    "            print(f'Processing in Itr[{i}/{len(test_loader)}')\n",
    "        \n",
    "        # save the prediction of the firest image in the batch\n",
    "        if save_out:\n",
    "            name = img_name[0]\n",
    "            cv2_img = cv2.imread(os.path.join(data_dir, name + '.jpg'))\n",
    "            # the error in the img prediction\n",
    "            error_string = 'y %.2f, p %.2f, r %.2f' % (torch.abs(reg_yaw[0] - angles[0,0])\n",
    "                                                           , torch.abs(reg_pitch[0] - angles[0,1])\n",
    "                                                           , torch.abs(reg_roll[0] - angles[0,2]))\n",
    "            # save the error in the image\n",
    "            cv2.putText(cv2_img, error_string, (30, cv2_img.shape[0]- 30), fontFace=1, \n",
    "                        fontScale=1, color=(0,0,255), thickness=2)\n",
    "            # utils.plot_pose_cube(cv2_img, yaw_predicted[0], pitch_predicted[0], roll_predicted[0], size=100)\n",
    "            draw_axis(cv2_img, reg_yaw[0], reg_pitch[0], reg_roll[0], \n",
    "                      tdx = 200, tdy= 200, size=100)\n",
    "            cv2.imwrite(os.path.join(f'{output}', name + '.jpg'), cv2_img)\n",
    "            \n",
    "            \n",
    "    # finish test\n",
    "    yaw_error /= test_size\n",
    "    pitch_error /= test_size\n",
    "    roll_error /= test_size\n",
    "    \n",
    "    # the output string\n",
    "    print(f'the final total error in degrees in {test_size} smaples.\\n\\\n",
    "    Yaw:{yaw_error:.2f}, Pitch:{pitch_error:.2f}, Roll:{roll_error:.2f}')\n",
    "    \n",
    "    return yaw_error, pitch_error, roll_error"
   ]
  },
  {
   "cell_type": "code",
   "execution_count": 31,
   "metadata": {},
   "outputs": [
    {
     "name": "stdout",
     "output_type": "stream",
     "text": [
      "Processing in Itr[0/1969\n",
      "Processing in Itr[100/1969\n",
      "Processing in Itr[200/1969\n",
      "Processing in Itr[300/1969\n",
      "Processing in Itr[400/1969\n",
      "Processing in Itr[500/1969\n",
      "Processing in Itr[600/1969\n",
      "Processing in Itr[700/1969\n",
      "Processing in Itr[800/1969\n",
      "Processing in Itr[900/1969\n",
      "Processing in Itr[1000/1969\n",
      "Processing in Itr[1100/1969\n",
      "Processing in Itr[1200/1969\n",
      "Processing in Itr[1300/1969\n",
      "Processing in Itr[1400/1969\n",
      "Processing in Itr[1500/1969\n",
      "Processing in Itr[1600/1969\n",
      "Processing in Itr[1700/1969\n",
      "Processing in Itr[1800/1969\n",
      "Processing in Itr[1900/1969\n",
      "the final total error in degrees in 1969 smaples.\n",
      "    Yaw:6.85, Pitch:7.47, Roll:5.80\n"
     ]
    }
   ],
   "source": [
    "# test AFLW2000 Dataset\n",
    "\n",
    "yaw_error, pitch_error, roll_error = Test_HeadPose(model, softmax, test_loader, disp_every, save_out, device)"
   ]
  },
  {
   "cell_type": "code",
   "execution_count": null,
   "metadata": {},
   "outputs": [],
   "source": []
  }
 ],
 "metadata": {
  "kernelspec": {
   "display_name": "Python 3",
   "language": "python",
   "name": "python3"
  },
  "language_info": {
   "codemirror_mode": {
    "name": "ipython",
    "version": 3
   },
   "file_extension": ".py",
   "mimetype": "text/x-python",
   "name": "python",
   "nbconvert_exporter": "python",
   "pygments_lexer": "ipython3",
   "version": "3.7.6"
  }
 },
 "nbformat": 4,
 "nbformat_minor": 4
}
